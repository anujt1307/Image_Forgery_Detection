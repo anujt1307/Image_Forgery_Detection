{
  "cells": [
    {
      "cell_type": "markdown",
      "metadata": {
        "id": "-Mu7Ou5PGLed"
      },
      "source": [
        "### EXPLORATORY DATA ANALYSIS AND DATA PREPROCESSING "
      ]
    },
    {
      "cell_type": "code",
      "execution_count": 1,
      "metadata": {},
      "outputs": [
        {
          "name": "stdout",
          "output_type": "stream",
          "text": [
            "Collecting opencv-contrib-python\n",
            "  Using cached opencv_contrib_python-4.8.1.78-cp37-abi3-win_amd64.whl (44.8 MB)\n",
            "Collecting numpy>=1.17.0\n",
            "  Downloading numpy-1.26.2-cp310-cp310-win_amd64.whl (15.8 MB)\n",
            "     ---------------------------------------- 15.8/15.8 MB 9.5 MB/s eta 0:00:00\n",
            "Installing collected packages: numpy, opencv-contrib-python\n",
            "Successfully installed numpy-1.26.2 opencv-contrib-python-4.8.1.78\n",
            "Note: you may need to restart the kernel to use updated packages.\n"
          ]
        },
        {
          "name": "stderr",
          "output_type": "stream",
          "text": [
            "WARNING: You are using pip version 22.0.4; however, version 23.3.1 is available.\n",
            "You should consider upgrading via the 'c:\\Users\\Anuj Taneja\\AppData\\Local\\Programs\\Python\\Python310\\python.exe -m pip install --upgrade pip' command.\n"
          ]
        }
      ],
      "source": [
        "pip install opencv-contrib-python"
      ]
    },
    {
      "cell_type": "code",
      "execution_count": 2,
      "metadata": {},
      "outputs": [
        {
          "name": "stdout",
          "output_type": "stream",
          "text": [
            "Collecting tqdmNote: you may need to restart the kernel to use updated packages.\n"
          ]
        },
        {
          "name": "stderr",
          "output_type": "stream",
          "text": [
            "WARNING: You are using pip version 22.0.4; however, version 23.3.1 is available.\n",
            "You should consider upgrading via the 'c:\\Users\\Anuj Taneja\\AppData\\Local\\Programs\\Python\\Python310\\python.exe -m pip install --upgrade pip' command.\n"
          ]
        },
        {
          "name": "stdout",
          "output_type": "stream",
          "text": [
            "\n",
            "  Using cached tqdm-4.66.1-py3-none-any.whl (78 kB)\n",
            "Requirement already satisfied: colorama in c:\\users\\anuj taneja\\appdata\\roaming\\python\\python310\\site-packages (from tqdm) (0.4.6)\n",
            "Installing collected packages: tqdm\n",
            "Successfully installed tqdm-4.66.1\n"
          ]
        }
      ],
      "source": [
        "pip install tqdm"
      ]
    },
    {
      "cell_type": "code",
      "execution_count": 3,
      "metadata": {},
      "outputs": [
        {
          "name": "stdout",
          "output_type": "stream",
          "text": [
            "Collecting keras\n",
            "  Downloading keras-3.0.0-py3-none-any.whl (997 kB)\n",
            "     -------------------------------------- 997.1/997.1 KB 5.2 MB/s eta 0:00:00\n",
            "Collecting absl-py\n",
            "  Downloading absl_py-2.0.0-py3-none-any.whl (130 kB)\n",
            "     -------------------------------------- 130.2/130.2 KB 3.9 MB/s eta 0:00:00\n",
            "Collecting h5py\n",
            "  Downloading h5py-3.10.0-cp310-cp310-win_amd64.whl (2.7 MB)\n",
            "     ---------------------------------------- 2.7/2.7 MB 9.5 MB/s eta 0:00:00\n",
            "Collecting namex\n",
            "  Downloading namex-0.0.7-py3-none-any.whl (5.8 kB)\n",
            "Collecting dm-tree\n",
            "  Downloading dm_tree-0.1.8-cp310-cp310-win_amd64.whl (101 kB)\n",
            "     -------------------------------------- 101.3/101.3 KB 5.7 MB/s eta 0:00:00\n",
            "Requirement already satisfied: numpy in c:\\users\\anuj taneja\\appdata\\local\\programs\\python\\python310\\lib\\site-packages (from keras) (1.26.2)\n",
            "Collecting rich\n",
            "  Downloading rich-13.7.0-py3-none-any.whl (240 kB)\n",
            "     ------------------------------------- 240.6/240.6 KB 14.4 MB/s eta 0:00:00\n",
            "Requirement already satisfied: pygments<3.0.0,>=2.13.0 in c:\\users\\anuj taneja\\appdata\\roaming\\python\\python310\\site-packages (from rich->keras) (2.17.2)\n",
            "Collecting markdown-it-py>=2.2.0\n",
            "  Downloading markdown_it_py-3.0.0-py3-none-any.whl (87 kB)\n",
            "     ---------------------------------------- 87.5/87.5 KB ? eta 0:00:00\n",
            "Collecting mdurl~=0.1\n",
            "  Downloading mdurl-0.1.2-py3-none-any.whl (10.0 kB)\n",
            "Installing collected packages: namex, dm-tree, mdurl, h5py, absl-py, markdown-it-py, rich, keras\n",
            "Successfully installed absl-py-2.0.0 dm-tree-0.1.8 h5py-3.10.0 keras-3.0.0 markdown-it-py-3.0.0 mdurl-0.1.2 namex-0.0.7 rich-13.7.0\n",
            "Note: you may need to restart the kernel to use updated packages.\n"
          ]
        },
        {
          "name": "stderr",
          "output_type": "stream",
          "text": [
            "WARNING: You are using pip version 22.0.4; however, version 23.3.1 is available.\n",
            "You should consider upgrading via the 'c:\\Users\\Anuj Taneja\\AppData\\Local\\Programs\\Python\\Python310\\python.exe -m pip install --upgrade pip' command.\n"
          ]
        }
      ],
      "source": [
        "pip install keras"
      ]
    },
    {
      "cell_type": "code",
      "execution_count": 4,
      "metadata": {},
      "outputs": [
        {
          "name": "stdout",
          "output_type": "stream",
          "text": [
            "Collecting tensorflow\n",
            "  Downloading tensorflow-2.15.0-cp310-cp310-win_amd64.whl (2.1 kB)\n",
            "Collecting tensorflow-intel==2.15.0\n",
            "  Downloading tensorflow_intel-2.15.0-cp310-cp310-win_amd64.whl (300.9 MB)\n",
            "     -------------------------------------- 300.9/300.9 MB 5.4 MB/s eta 0:00:00\n",
            "Requirement already satisfied: absl-py>=1.0.0 in c:\\users\\anuj taneja\\appdata\\local\\programs\\python\\python310\\lib\\site-packages (from tensorflow-intel==2.15.0->tensorflow) (2.0.0)\n",
            "Collecting typing-extensions>=3.6.6\n",
            "  Downloading typing_extensions-4.8.0-py3-none-any.whl (31 kB)\n",
            "Collecting wrapt<1.15,>=1.11.0\n",
            "  Downloading wrapt-1.14.1-cp310-cp310-win_amd64.whl (35 kB)\n",
            "Requirement already satisfied: packaging in c:\\users\\anuj taneja\\appdata\\roaming\\python\\python310\\site-packages (from tensorflow-intel==2.15.0->tensorflow) (23.2)\n",
            "Collecting gast!=0.5.0,!=0.5.1,!=0.5.2,>=0.2.1\n",
            "  Downloading gast-0.5.4-py3-none-any.whl (19 kB)\n",
            "Requirement already satisfied: numpy<2.0.0,>=1.23.5 in c:\\users\\anuj taneja\\appdata\\local\\programs\\python\\python310\\lib\\site-packages (from tensorflow-intel==2.15.0->tensorflow) (1.26.2)\n",
            "Collecting google-pasta>=0.1.1\n",
            "  Downloading google_pasta-0.2.0-py3-none-any.whl (57 kB)\n",
            "     ---------------------------------------- 57.5/57.5 KB ? eta 0:00:00\n",
            "Requirement already satisfied: six>=1.12.0 in c:\\users\\anuj taneja\\appdata\\roaming\\python\\python310\\site-packages (from tensorflow-intel==2.15.0->tensorflow) (1.16.0)\n",
            "Requirement already satisfied: setuptools in c:\\users\\anuj taneja\\appdata\\local\\programs\\python\\python310\\lib\\site-packages (from tensorflow-intel==2.15.0->tensorflow) (58.1.0)\n",
            "Collecting astunparse>=1.6.0\n",
            "  Downloading astunparse-1.6.3-py2.py3-none-any.whl (12 kB)\n",
            "Collecting opt-einsum>=2.3.2\n",
            "  Downloading opt_einsum-3.3.0-py3-none-any.whl (65 kB)\n",
            "     ---------------------------------------- 65.5/65.5 KB ? eta 0:00:00\n",
            "Collecting tensorflow-io-gcs-filesystem>=0.23.1\n",
            "  Downloading tensorflow_io_gcs_filesystem-0.31.0-cp310-cp310-win_amd64.whl (1.5 MB)\n",
            "     ---------------------------------------- 1.5/1.5 MB 7.3 MB/s eta 0:00:00\n",
            "Collecting libclang>=13.0.0\n",
            "  Downloading libclang-16.0.6-py2.py3-none-win_amd64.whl (24.4 MB)\n",
            "     ---------------------------------------- 24.4/24.4 MB 9.0 MB/s eta 0:00:00\n",
            "Collecting ml-dtypes~=0.2.0\n",
            "  Downloading ml_dtypes-0.2.0-cp310-cp310-win_amd64.whl (938 kB)\n",
            "     -------------------------------------- 938.6/938.6 KB 8.5 MB/s eta 0:00:00\n",
            "Collecting termcolor>=1.1.0\n",
            "  Downloading termcolor-2.3.0-py3-none-any.whl (6.9 kB)\n",
            "Collecting keras<2.16,>=2.15.0\n",
            "  Using cached keras-2.15.0-py3-none-any.whl (1.7 MB)\n",
            "Requirement already satisfied: h5py>=2.9.0 in c:\\users\\anuj taneja\\appdata\\local\\programs\\python\\python310\\lib\\site-packages (from tensorflow-intel==2.15.0->tensorflow) (3.10.0)\n",
            "Collecting tensorflow-estimator<2.16,>=2.15.0\n",
            "  Downloading tensorflow_estimator-2.15.0-py2.py3-none-any.whl (441 kB)\n",
            "     -------------------------------------- 442.0/442.0 KB 6.9 MB/s eta 0:00:00\n",
            "Collecting flatbuffers>=23.5.26\n",
            "  Downloading flatbuffers-23.5.26-py2.py3-none-any.whl (26 kB)\n",
            "Collecting tensorboard<2.16,>=2.15\n",
            "  Downloading tensorboard-2.15.1-py3-none-any.whl (5.5 MB)\n",
            "     ---------------------------------------- 5.5/5.5 MB 9.6 MB/s eta 0:00:00\n",
            "Collecting grpcio<2.0,>=1.24.3\n",
            "  Downloading grpcio-1.59.3-cp310-cp310-win_amd64.whl (3.7 MB)\n",
            "     ---------------------------------------- 3.7/3.7 MB 9.8 MB/s eta 0:00:00\n",
            "Collecting protobuf!=4.21.0,!=4.21.1,!=4.21.2,!=4.21.3,!=4.21.4,!=4.21.5,<5.0.0dev,>=3.20.3\n",
            "  Downloading protobuf-4.25.1-cp310-abi3-win_amd64.whl (413 kB)\n",
            "     ------------------------------------- 413.4/413.4 KB 13.0 MB/s eta 0:00:00\n",
            "Collecting wheel<1.0,>=0.23.0\n",
            "  Using cached wheel-0.42.0-py3-none-any.whl (65 kB)\n",
            "Collecting markdown>=2.6.8\n",
            "  Downloading Markdown-3.5.1-py3-none-any.whl (102 kB)\n",
            "     -------------------------------------- 102.2/102.2 KB 6.1 MB/s eta 0:00:00\n",
            "Collecting werkzeug>=1.0.1\n",
            "  Downloading werkzeug-3.0.1-py3-none-any.whl (226 kB)\n",
            "     -------------------------------------- 226.7/226.7 KB 6.8 MB/s eta 0:00:00\n",
            "Collecting google-auth<3,>=1.6.3\n",
            "  Downloading google_auth-2.23.4-py2.py3-none-any.whl (183 kB)\n",
            "     ------------------------------------- 183.3/183.3 KB 11.5 MB/s eta 0:00:00\n",
            "Collecting protobuf!=4.21.0,!=4.21.1,!=4.21.2,!=4.21.3,!=4.21.4,!=4.21.5,<5.0.0dev,>=3.20.3\n",
            "  Downloading protobuf-4.23.4-cp310-abi3-win_amd64.whl (422 kB)\n",
            "     -------------------------------------- 422.5/422.5 KB 8.8 MB/s eta 0:00:00\n",
            "Collecting requests<3,>=2.21.0\n",
            "  Downloading requests-2.31.0-py3-none-any.whl (62 kB)\n",
            "     ---------------------------------------- 62.6/62.6 KB ? eta 0:00:00\n",
            "Collecting tensorboard-data-server<0.8.0,>=0.7.0\n",
            "  Downloading tensorboard_data_server-0.7.2-py3-none-any.whl (2.4 kB)\n",
            "Collecting google-auth-oauthlib<2,>=0.5\n",
            "  Downloading google_auth_oauthlib-1.1.0-py2.py3-none-any.whl (19 kB)\n",
            "Collecting rsa<5,>=3.1.4\n",
            "  Downloading rsa-4.9-py3-none-any.whl (34 kB)\n",
            "Collecting cachetools<6.0,>=2.0.0\n",
            "  Downloading cachetools-5.3.2-py3-none-any.whl (9.3 kB)\n",
            "Collecting pyasn1-modules>=0.2.1\n",
            "  Downloading pyasn1_modules-0.3.0-py2.py3-none-any.whl (181 kB)\n",
            "     -------------------------------------- 181.3/181.3 KB 5.5 MB/s eta 0:00:00\n",
            "Collecting requests-oauthlib>=0.7.0\n",
            "  Downloading requests_oauthlib-1.3.1-py2.py3-none-any.whl (23 kB)\n",
            "Collecting idna<4,>=2.5\n",
            "  Downloading idna-3.6-py3-none-any.whl (61 kB)\n",
            "     ---------------------------------------- 61.6/61.6 KB 3.4 MB/s eta 0:00:00\n",
            "Collecting charset-normalizer<4,>=2\n",
            "  Downloading charset_normalizer-3.3.2-cp310-cp310-win_amd64.whl (100 kB)\n",
            "     -------------------------------------- 100.3/100.3 KB 6.0 MB/s eta 0:00:00\n",
            "Collecting certifi>=2017.4.17\n",
            "  Downloading certifi-2023.11.17-py3-none-any.whl (162 kB)\n",
            "     -------------------------------------- 162.5/162.5 KB 1.1 MB/s eta 0:00:00\n",
            "Collecting urllib3<3,>=1.21.1\n",
            "  Downloading urllib3-2.1.0-py3-none-any.whl (104 kB)\n",
            "     -------------------------------------- 104.6/104.6 KB 5.9 MB/s eta 0:00:00\n",
            "Collecting MarkupSafe>=2.1.1\n",
            "  Downloading MarkupSafe-2.1.3-cp310-cp310-win_amd64.whl (17 kB)\n",
            "Collecting pyasn1<0.6.0,>=0.4.6\n",
            "  Downloading pyasn1-0.5.1-py2.py3-none-any.whl (84 kB)\n",
            "     ---------------------------------------- 84.9/84.9 KB ? eta 0:00:00\n",
            "Collecting oauthlib>=3.0.0\n",
            "  Downloading oauthlib-3.2.2-py3-none-any.whl (151 kB)\n",
            "     -------------------------------------- 151.7/151.7 KB 4.6 MB/s eta 0:00:00\n",
            "Installing collected packages: libclang, flatbuffers, wrapt, wheel, urllib3, typing-extensions, termcolor, tensorflow-io-gcs-filesystem, tensorflow-estimator, tensorboard-data-server, pyasn1, protobuf, opt-einsum, oauthlib, ml-dtypes, MarkupSafe, markdown, keras, idna, grpcio, google-pasta, gast, charset-normalizer, certifi, cachetools, werkzeug, rsa, requests, pyasn1-modules, astunparse, requests-oauthlib, google-auth, google-auth-oauthlib, tensorboard, tensorflow-intel, tensorflow\n",
            "  Attempting uninstall: keras\n",
            "    Found existing installation: keras 3.0.0\n",
            "    Uninstalling keras-3.0.0:\n",
            "      Successfully uninstalled keras-3.0.0\n",
            "Successfully installed MarkupSafe-2.1.3 astunparse-1.6.3 cachetools-5.3.2 certifi-2023.11.17 charset-normalizer-3.3.2 flatbuffers-23.5.26 gast-0.5.4 google-auth-2.23.4 google-auth-oauthlib-1.1.0 google-pasta-0.2.0 grpcio-1.59.3 idna-3.6 keras-2.15.0 libclang-16.0.6 markdown-3.5.1 ml-dtypes-0.2.0 oauthlib-3.2.2 opt-einsum-3.3.0 protobuf-4.23.4 pyasn1-0.5.1 pyasn1-modules-0.3.0 requests-2.31.0 requests-oauthlib-1.3.1 rsa-4.9 tensorboard-2.15.1 tensorboard-data-server-0.7.2 tensorflow-2.15.0 tensorflow-estimator-2.15.0 tensorflow-intel-2.15.0 tensorflow-io-gcs-filesystem-0.31.0 termcolor-2.3.0 typing-extensions-4.8.0 urllib3-2.1.0 werkzeug-3.0.1 wheel-0.42.0 wrapt-1.14.1\n",
            "Note: you may need to restart the kernel to use updated packages.\n"
          ]
        },
        {
          "name": "stderr",
          "output_type": "stream",
          "text": [
            "WARNING: You are using pip version 22.0.4; however, version 23.3.1 is available.\n",
            "You should consider upgrading via the 'c:\\Users\\Anuj Taneja\\AppData\\Local\\Programs\\Python\\Python310\\python.exe -m pip install --upgrade pip' command.\n"
          ]
        }
      ],
      "source": [
        "pip install tensorflow"
      ]
    },
    {
      "cell_type": "code",
      "execution_count": 6,
      "metadata": {},
      "outputs": [
        {
          "name": "stdout",
          "output_type": "stream",
          "text": [
            "Collecting pandas\n",
            "  Downloading pandas-2.1.3-cp310-cp310-win_amd64.whl (10.7 MB)\n",
            "     ---------------------------------------- 10.7/10.7 MB 9.2 MB/s eta 0:00:00\n",
            "Collecting pytz>=2020.1\n",
            "  Using cached pytz-2023.3.post1-py2.py3-none-any.whl (502 kB)\n",
            "Collecting tzdata>=2022.1\n",
            "  Using cached tzdata-2023.3-py2.py3-none-any.whl (341 kB)\n",
            "Requirement already satisfied: python-dateutil>=2.8.2 in c:\\users\\anuj taneja\\appdata\\roaming\\python\\python310\\site-packages (from pandas) (2.8.2)\n",
            "Requirement already satisfied: numpy<2,>=1.22.4 in c:\\users\\anuj taneja\\appdata\\local\\programs\\python\\python310\\lib\\site-packages (from pandas) (1.26.2)\n",
            "Requirement already satisfied: six>=1.5 in c:\\users\\anuj taneja\\appdata\\roaming\\python\\python310\\site-packages (from python-dateutil>=2.8.2->pandas) (1.16.0)\n",
            "Installing collected packages: pytz, tzdata, pandas\n",
            "Successfully installed pandas-2.1.3 pytz-2023.3.post1 tzdata-2023.3\n",
            "Note: you may need to restart the kernel to use updated packages.\n"
          ]
        },
        {
          "name": "stderr",
          "output_type": "stream",
          "text": [
            "WARNING: You are using pip version 22.0.4; however, version 23.3.1 is available.\n",
            "You should consider upgrading via the 'c:\\Users\\Anuj Taneja\\AppData\\Local\\Programs\\Python\\Python310\\python.exe -m pip install --upgrade pip' command.\n"
          ]
        }
      ],
      "source": [
        "pip install pandas"
      ]
    },
    {
      "cell_type": "code",
      "execution_count": 7,
      "metadata": {},
      "outputs": [
        {
          "name": "stdout",
          "output_type": "stream",
          "text": [
            "Collecting matplotlib\n",
            "  Downloading matplotlib-3.8.2-cp310-cp310-win_amd64.whl (7.6 MB)\n",
            "     ---------------------------------------- 7.6/7.6 MB 9.0 MB/s eta 0:00:00\n",
            "Requirement already satisfied: numpy<2,>=1.21 in c:\\users\\anuj taneja\\appdata\\local\\programs\\python\\python310\\lib\\site-packages (from matplotlib) (1.26.2)\n",
            "Collecting fonttools>=4.22.0\n",
            "  Downloading fonttools-4.45.1-cp310-cp310-win_amd64.whl (2.2 MB)\n",
            "     ---------------------------------------- 2.2/2.2 MB 9.2 MB/s eta 0:00:00\n",
            "Collecting cycler>=0.10\n",
            "  Using cached cycler-0.12.1-py3-none-any.whl (8.3 kB)\n",
            "Collecting kiwisolver>=1.3.1\n",
            "  Downloading kiwisolver-1.4.5-cp310-cp310-win_amd64.whl (56 kB)\n",
            "     ---------------------------------------- 56.1/56.1 KB ? eta 0:00:00\n",
            "Requirement already satisfied: packaging>=20.0 in c:\\users\\anuj taneja\\appdata\\roaming\\python\\python310\\site-packages (from matplotlib) (23.2)\n",
            "Collecting pillow>=8\n",
            "  Downloading Pillow-10.1.0-cp310-cp310-win_amd64.whl (2.6 MB)\n",
            "     ---------------------------------------- 2.6/2.6 MB 9.2 MB/s eta 0:00:00\n",
            "Requirement already satisfied: python-dateutil>=2.7 in c:\\users\\anuj taneja\\appdata\\roaming\\python\\python310\\site-packages (from matplotlib) (2.8.2)\n",
            "Collecting pyparsing>=2.3.1\n",
            "  Using cached pyparsing-3.1.1-py3-none-any.whl (103 kB)\n",
            "Collecting contourpy>=1.0.1\n",
            "  Downloading contourpy-1.2.0-cp310-cp310-win_amd64.whl (186 kB)\n",
            "     ------------------------------------- 186.7/186.7 KB 11.0 MB/s eta 0:00:00\n",
            "Requirement already satisfied: six>=1.5 in c:\\users\\anuj taneja\\appdata\\roaming\\python\\python310\\site-packages (from python-dateutil>=2.7->matplotlib) (1.16.0)\n",
            "Installing collected packages: pyparsing, pillow, kiwisolver, fonttools, cycler, contourpy, matplotlib\n",
            "Successfully installed contourpy-1.2.0 cycler-0.12.1 fonttools-4.45.1 kiwisolver-1.4.5 matplotlib-3.8.2 pillow-10.1.0 pyparsing-3.1.1\n",
            "Note: you may need to restart the kernel to use updated packages.\n"
          ]
        },
        {
          "name": "stderr",
          "output_type": "stream",
          "text": [
            "WARNING: You are using pip version 22.0.4; however, version 23.3.1 is available.\n",
            "You should consider upgrading via the 'c:\\Users\\Anuj Taneja\\AppData\\Local\\Programs\\Python\\Python310\\python.exe -m pip install --upgrade pip' command.\n"
          ]
        }
      ],
      "source": [
        "pip install matplotlib"
      ]
    },
    {
      "cell_type": "code",
      "execution_count": 16,
      "metadata": {},
      "outputs": [
        {
          "name": "stdout",
          "output_type": "stream",
          "text": [
            "Requirement already satisfied: keras-utils in c:\\users\\anuj taneja\\appdata\\local\\programs\\python\\python310\\lib\\site-packages (1.0.13)\n",
            "Requirement already satisfied: Keras>=2.1.5 in c:\\users\\anuj taneja\\appdata\\local\\programs\\python\\python310\\lib\\site-packages (from keras-utils) (2.15.0)\n",
            "Note: you may need to restart the kernel to use updated packages.\n"
          ]
        },
        {
          "name": "stderr",
          "output_type": "stream",
          "text": [
            "WARNING: You are using pip version 22.0.4; however, version 23.3.1 is available.\n",
            "You should consider upgrading via the 'c:\\Users\\Anuj Taneja\\AppData\\Local\\Programs\\Python\\Python310\\python.exe -m pip install --upgrade pip' command.\n"
          ]
        }
      ],
      "source": [
        "pip install --no-cache-dir keras-utils"
      ]
    },
    {
      "cell_type": "code",
      "execution_count": 20,
      "metadata": {},
      "outputs": [
        {
          "name": "stdout",
          "output_type": "stream",
          "text": [
            "Collecting scikit-learn\n",
            "  Downloading scikit_learn-1.3.2-cp310-cp310-win_amd64.whl (9.3 MB)\n",
            "     ---------------------------------------- 9.3/9.3 MB 8.6 MB/s eta 0:00:00\n",
            "Collecting threadpoolctl>=2.0.0\n",
            "  Using cached threadpoolctl-3.2.0-py3-none-any.whl (15 kB)\n",
            "Requirement already satisfied: numpy<2.0,>=1.17.3 in c:\\users\\anuj taneja\\appdata\\local\\programs\\python\\python310\\lib\\site-packages (from scikit-learn) (1.26.2)\n",
            "Collecting joblib>=1.1.1\n",
            "  Using cached joblib-1.3.2-py3-none-any.whl (302 kB)\n",
            "Collecting scipy>=1.5.0\n",
            "  Downloading scipy-1.11.4-cp310-cp310-win_amd64.whl (44.1 MB)\n",
            "     ---------------------------------------- 44.1/44.1 MB 8.3 MB/s eta 0:00:00\n",
            "Installing collected packages: threadpoolctl, scipy, joblib, scikit-learn\n",
            "Successfully installed joblib-1.3.2 scikit-learn-1.3.2 scipy-1.11.4 threadpoolctl-3.2.0\n",
            "Note: you may need to restart the kernel to use updated packages.\n"
          ]
        },
        {
          "name": "stderr",
          "output_type": "stream",
          "text": [
            "WARNING: You are using pip version 22.0.4; however, version 23.3.1 is available.\n",
            "You should consider upgrading via the 'c:\\Users\\Anuj Taneja\\AppData\\Local\\Programs\\Python\\Python310\\python.exe -m pip install --upgrade pip' command.\n"
          ]
        }
      ],
      "source": [
        "pip install scikit-learn"
      ]
    },
    {
      "cell_type": "code",
      "execution_count": 21,
      "metadata": {
        "id": "FGYvfkv9GLvm"
      },
      "outputs": [],
      "source": [
        "#Importing necessary libraries\n",
        "import os\n",
        "import pandas as pd\n",
        "import numpy as np \n",
        "import matplotlib.pyplot as plt\n",
        "import cv2\n",
        "from tqdm import tqdm\n",
        "import pickle as pkl\n",
        "# from keras.utils.vis_utils import plot_model\n",
        "import keras\n",
        "# from keras.utils.np_utils import to_categorical\n",
        "from keras.models import Sequential\n",
        "from keras.layers import Dense, Dropout, Flatten, Conv2D, MaxPool2D, BatchNormalization\n",
        "from sklearn.model_selection import train_test_split\n",
        "from scipy import stats\n",
        "from sklearn.preprocessing import LabelEncoder\n",
        "from PIL import Image\n",
        "from PIL import Image, ImageChops, ImageEnhance\n",
        "from sklearn.utils import shuffle\n",
        "import tensorflow as tf"
      ]
    },
    {
      "cell_type": "markdown",
      "metadata": {
        "id": "FJieVHhVGQHg"
      },
      "source": [
        "I downloaded data from this kaggle link https://www.kaggle.com/datasets/divg07/casia-20-image-tampering-detection-dataset in which we have three files <br>\n",
        "- Tp - This folder contain fake image \n",
        "- CASIA 2 Groundtruth - This folder contain fake image mask \n",
        "- Au - This folder contain real images"
      ]
    },
    {
      "cell_type": "markdown",
      "metadata": {
        "id": "KGtrfR_YGS-D"
      },
      "source": [
        "#### Analysis on fake images "
      ]
    },
    {
      "cell_type": "code",
      "execution_count": 22,
      "metadata": {
        "id": "3vt1KhNLGNMI"
      },
      "outputs": [],
      "source": [
        "fake_image_data={'image_path':[],'label':[],'image_id':[]}"
      ]
    },
    {
      "cell_type": "code",
      "execution_count": 23,
      "metadata": {
        "id": "DNwx4E84GUiW"
      },
      "outputs": [],
      "source": [
        "fake_image_path='C:/Users/Anuj Taneja/Desktop/Major/CASIA2/Tp'\n",
        "for img in os.listdir(fake_image_path) :\n",
        "    if img.endswith('jpg') or img.endswith('png') :\n",
        "      temp_path=fake_image_path+\"/\"+str(img)\n",
        "      fake_image_data['image_path'].append(temp_path)\n",
        "      fake_image_data['label'].append('fake')\n",
        "      fake_image_data['image_id'].append(img[:-4])\n",
        "    \n",
        "    "
      ]
    },
    {
      "cell_type": "code",
      "execution_count": 24,
      "metadata": {
        "colab": {
          "base_uri": "https://localhost:8080/",
          "height": 206
        },
        "id": "ZxMaFt4aGVxF",
        "outputId": "12474ad1-8c3a-4c2f-df2a-8274b8f61c12"
      },
      "outputs": [
        {
          "data": {
            "text/html": [
              "<div>\n",
              "<style scoped>\n",
              "    .dataframe tbody tr th:only-of-type {\n",
              "        vertical-align: middle;\n",
              "    }\n",
              "\n",
              "    .dataframe tbody tr th {\n",
              "        vertical-align: top;\n",
              "    }\n",
              "\n",
              "    .dataframe thead th {\n",
              "        text-align: right;\n",
              "    }\n",
              "</style>\n",
              "<table border=\"1\" class=\"dataframe\">\n",
              "  <thead>\n",
              "    <tr style=\"text-align: right;\">\n",
              "      <th></th>\n",
              "      <th>image_path</th>\n",
              "      <th>label</th>\n",
              "      <th>image_id</th>\n",
              "    </tr>\n",
              "  </thead>\n",
              "  <tbody>\n",
              "    <tr>\n",
              "      <th>0</th>\n",
              "      <td>C:/Users/Anuj Taneja/Desktop/Major/CASIA2/Tp/T...</td>\n",
              "      <td>fake</td>\n",
              "      <td>Tp_D_CND_S_N_txt00028_txt00006_10848</td>\n",
              "    </tr>\n",
              "    <tr>\n",
              "      <th>1</th>\n",
              "      <td>C:/Users/Anuj Taneja/Desktop/Major/CASIA2/Tp/T...</td>\n",
              "      <td>fake</td>\n",
              "      <td>Tp_D_CNN_M_B_nat00056_nat00099_11105</td>\n",
              "    </tr>\n",
              "    <tr>\n",
              "      <th>2</th>\n",
              "      <td>C:/Users/Anuj Taneja/Desktop/Major/CASIA2/Tp/T...</td>\n",
              "      <td>fake</td>\n",
              "      <td>Tp_D_CNN_M_B_nat10139_nat00059_11949</td>\n",
              "    </tr>\n",
              "    <tr>\n",
              "      <th>3</th>\n",
              "      <td>C:/Users/Anuj Taneja/Desktop/Major/CASIA2/Tp/T...</td>\n",
              "      <td>fake</td>\n",
              "      <td>Tp_D_CNN_M_B_nat10139_nat00097_11948</td>\n",
              "    </tr>\n",
              "    <tr>\n",
              "      <th>4</th>\n",
              "      <td>C:/Users/Anuj Taneja/Desktop/Major/CASIA2/Tp/T...</td>\n",
              "      <td>fake</td>\n",
              "      <td>Tp_D_CNN_M_N_ani00052_ani00054_11130</td>\n",
              "    </tr>\n",
              "  </tbody>\n",
              "</table>\n",
              "</div>"
            ],
            "text/plain": [
              "                                          image_path label  \\\n",
              "0  C:/Users/Anuj Taneja/Desktop/Major/CASIA2/Tp/T...  fake   \n",
              "1  C:/Users/Anuj Taneja/Desktop/Major/CASIA2/Tp/T...  fake   \n",
              "2  C:/Users/Anuj Taneja/Desktop/Major/CASIA2/Tp/T...  fake   \n",
              "3  C:/Users/Anuj Taneja/Desktop/Major/CASIA2/Tp/T...  fake   \n",
              "4  C:/Users/Anuj Taneja/Desktop/Major/CASIA2/Tp/T...  fake   \n",
              "\n",
              "                               image_id  \n",
              "0  Tp_D_CND_S_N_txt00028_txt00006_10848  \n",
              "1  Tp_D_CNN_M_B_nat00056_nat00099_11105  \n",
              "2  Tp_D_CNN_M_B_nat10139_nat00059_11949  \n",
              "3  Tp_D_CNN_M_B_nat10139_nat00097_11948  \n",
              "4  Tp_D_CNN_M_N_ani00052_ani00054_11130  "
            ]
          },
          "execution_count": 24,
          "metadata": {},
          "output_type": "execute_result"
        }
      ],
      "source": [
        "fake_image_data=pd.DataFrame(fake_image_data)\n",
        "fake_image_data.head()"
      ]
    },
    {
      "cell_type": "code",
      "execution_count": 25,
      "metadata": {
        "colab": {
          "base_uri": "https://localhost:8080/"
        },
        "id": "5m_Xcs6sWBDb",
        "outputId": "c08098b0-3069-4a73-d4b3-9b36124cb0ed"
      },
      "outputs": [
        {
          "name": "stdout",
          "output_type": "stream",
          "text": [
            "Number of fake images are 2064\n"
          ]
        }
      ],
      "source": [
        "print(\"Number of fake images are {}\".format(fake_image_data.shape[0]))"
      ]
    },
    {
      "cell_type": "markdown",
      "metadata": {
        "id": "IIj_5601WFwt"
      },
      "source": [
        "#### Analysis on pristine images"
      ]
    },
    {
      "cell_type": "code",
      "execution_count": 26,
      "metadata": {
        "id": "eJJb8RsgWC_q"
      },
      "outputs": [],
      "source": [
        "real_image_data={'image_path':[],'label':[],'image_id':[]}"
      ]
    },
    {
      "cell_type": "code",
      "execution_count": 27,
      "metadata": {
        "id": "yeJUjH--WHc9"
      },
      "outputs": [],
      "source": [
        "real_image_path='./CASIA2/Au'\n",
        "for img in os.listdir(real_image_path) :\n",
        "    if img.endswith('jpg') or img.endswith('png') :\n",
        "      temp_path=real_image_path+\"/\"+str(img)\n",
        "      real_image_data['image_path'].append(temp_path)\n",
        "      real_image_data['label'].append('real')\n",
        "      real_image_data['image_id'].append(img[:-4])\n",
        "    \n",
        "    "
      ]
    },
    {
      "cell_type": "code",
      "execution_count": 28,
      "metadata": {
        "colab": {
          "base_uri": "https://localhost:8080/",
          "height": 206
        },
        "id": "fmWJcXgLWObT",
        "outputId": "8587ccca-78ac-40e5-e00a-463d3b003286"
      },
      "outputs": [
        {
          "data": {
            "text/html": [
              "<div>\n",
              "<style scoped>\n",
              "    .dataframe tbody tr th:only-of-type {\n",
              "        vertical-align: middle;\n",
              "    }\n",
              "\n",
              "    .dataframe tbody tr th {\n",
              "        vertical-align: top;\n",
              "    }\n",
              "\n",
              "    .dataframe thead th {\n",
              "        text-align: right;\n",
              "    }\n",
              "</style>\n",
              "<table border=\"1\" class=\"dataframe\">\n",
              "  <thead>\n",
              "    <tr style=\"text-align: right;\">\n",
              "      <th></th>\n",
              "      <th>image_path</th>\n",
              "      <th>label</th>\n",
              "      <th>image_id</th>\n",
              "    </tr>\n",
              "  </thead>\n",
              "  <tbody>\n",
              "    <tr>\n",
              "      <th>0</th>\n",
              "      <td>./CASIA2/Au/Au_ani_00001.jpg</td>\n",
              "      <td>real</td>\n",
              "      <td>Au_ani_00001</td>\n",
              "    </tr>\n",
              "    <tr>\n",
              "      <th>1</th>\n",
              "      <td>./CASIA2/Au/Au_ani_00002.jpg</td>\n",
              "      <td>real</td>\n",
              "      <td>Au_ani_00002</td>\n",
              "    </tr>\n",
              "    <tr>\n",
              "      <th>2</th>\n",
              "      <td>./CASIA2/Au/Au_ani_00003.jpg</td>\n",
              "      <td>real</td>\n",
              "      <td>Au_ani_00003</td>\n",
              "    </tr>\n",
              "    <tr>\n",
              "      <th>3</th>\n",
              "      <td>./CASIA2/Au/Au_ani_00004.jpg</td>\n",
              "      <td>real</td>\n",
              "      <td>Au_ani_00004</td>\n",
              "    </tr>\n",
              "    <tr>\n",
              "      <th>4</th>\n",
              "      <td>./CASIA2/Au/Au_ani_00005.jpg</td>\n",
              "      <td>real</td>\n",
              "      <td>Au_ani_00005</td>\n",
              "    </tr>\n",
              "  </tbody>\n",
              "</table>\n",
              "</div>"
            ],
            "text/plain": [
              "                     image_path label      image_id\n",
              "0  ./CASIA2/Au/Au_ani_00001.jpg  real  Au_ani_00001\n",
              "1  ./CASIA2/Au/Au_ani_00002.jpg  real  Au_ani_00002\n",
              "2  ./CASIA2/Au/Au_ani_00003.jpg  real  Au_ani_00003\n",
              "3  ./CASIA2/Au/Au_ani_00004.jpg  real  Au_ani_00004\n",
              "4  ./CASIA2/Au/Au_ani_00005.jpg  real  Au_ani_00005"
            ]
          },
          "execution_count": 28,
          "metadata": {},
          "output_type": "execute_result"
        }
      ],
      "source": [
        "real_image_data=pd.DataFrame(real_image_data)\n",
        "real_image_data.head()"
      ]
    },
    {
      "cell_type": "code",
      "execution_count": 29,
      "metadata": {
        "colab": {
          "base_uri": "https://localhost:8080/"
        },
        "id": "t7vjQtQeWQC8",
        "outputId": "a4831554-022e-4c24-c5d7-37e884430342"
      },
      "outputs": [
        {
          "name": "stdout",
          "output_type": "stream",
          "text": [
            "Number of real images are 7437\n"
          ]
        }
      ],
      "source": [
        "print(\"Number of real images are {}\".format(real_image_data.shape[0]))"
      ]
    },
    {
      "cell_type": "markdown",
      "metadata": {
        "id": "8-w1FDKRWZEe"
      },
      "source": [
        "We can see significant difference between number of prisitine images and number of fake images which can lead to problem of imbalance dataset thus i will reduce the number of prisitne images . This technique is called as Undersampling"
      ]
    },
    {
      "cell_type": "code",
      "execution_count": 30,
      "metadata": {
        "id": "Uj7jLJvrWRvn"
      },
      "outputs": [],
      "source": [
        "real_image_data=shuffle(real_image_data,random_state=42)\n",
        "real_image_data=real_image_data.iloc[:fake_image_data.shape[0],:]"
      ]
    },
    {
      "cell_type": "code",
      "execution_count": 31,
      "metadata": {
        "id": "ZAhpClrjWb6S"
      },
      "outputs": [],
      "source": [
        "final_image_data=pd.concat([fake_image_data,real_image_data])"
      ]
    },
    {
      "cell_type": "code",
      "execution_count": 32,
      "metadata": {
        "colab": {
          "base_uri": "https://localhost:8080/"
        },
        "id": "230DKRZ9Wj4v",
        "outputId": "5edafd7d-069a-441e-9f10-5d802b215e55"
      },
      "outputs": [
        {
          "name": "stdout",
          "output_type": "stream",
          "text": [
            "Total number of images in dataset is 4128\n"
          ]
        }
      ],
      "source": [
        "print(\"Total number of images in dataset is {}\".format(final_image_data.shape[0]))"
      ]
    },
    {
      "cell_type": "markdown",
      "metadata": {
        "id": "a4sfs3WbWod5"
      },
      "source": [
        "##### IMAGE PREPROCESSING (ERROR LEVEL ANALYSIS)"
      ]
    },
    {
      "cell_type": "code",
      "execution_count": 33,
      "metadata": {
        "id": "mkTsixjhWloz"
      },
      "outputs": [],
      "source": [
        "def convert_to_ela_image(path, quality):\n",
        "    temp_filename = 'temp_file.jpg'\n",
        "    ela_filename = 'temp_ela_file.png'\n",
        "    \n",
        "    image = Image.open(path).convert('RGB')\n",
        "    image.save(temp_filename, 'JPEG', quality = quality)\n",
        "    temp_image = Image.open(temp_filename)\n",
        "    \n",
        "    ela_image = ImageChops.difference(image, temp_image)\n",
        "    \n",
        "    extrema = ela_image.getextrema()\n",
        "    max_diff = max([ex[1] for ex in extrema])\n",
        "    if max_diff == 0:\n",
        "        max_diff = 1\n",
        "    scale = 255.0 / max_diff\n",
        "    \n",
        "    ela_image = ImageEnhance.Brightness(ela_image).enhance(scale)\n",
        "    \n",
        "    return ela_image"
      ]
    },
    {
      "cell_type": "code",
      "execution_count": 34,
      "metadata": {
        "id": "0AZPBz4XWwEK"
      },
      "outputs": [],
      "source": [
        "image_size = (128, 128)\n",
        "\n",
        "def prepare_image(image_path):\n",
        "    return np.array(convert_to_ela_image(image_path, 85).resize(image_size)).flatten() / 255.0"
      ]
    },
    {
      "cell_type": "code",
      "execution_count": 36,
      "metadata": {
        "id": "zruv6k2HWxvH"
      },
      "outputs": [],
      "source": [
        "X=[]\n",
        "Y=[]"
      ]
    },
    {
      "cell_type": "code",
      "execution_count": 37,
      "metadata": {
        "colab": {
          "base_uri": "https://localhost:8080/"
        },
        "id": "GeEKRZqVWzLQ",
        "outputId": "1ce8ce36-5109-4258-923f-b715c71463cd"
      },
      "outputs": [
        {
          "name": "stderr",
          "output_type": "stream",
          "text": [
            "4128it [00:30, 133.75it/s]\n"
          ]
        }
      ],
      "source": [
        "for index,rows in tqdm(final_image_data.iterrows()) :\n",
        "    temp_ela_image=prepare_image(rows['image_path'])\n",
        "    X.append(temp_ela_image)\n",
        "    if rows['label']=='fake' :\n",
        "        Y.append(0)\n",
        "    else :\n",
        "        Y.append(1)"
      ]
    },
    {
      "cell_type": "code",
      "execution_count": 38,
      "metadata": {
        "id": "KxkgOIceW0ge"
      },
      "outputs": [],
      "source": [
        "X, Y = shuffle(X, Y, random_state=42)"
      ]
    },
    {
      "cell_type": "code",
      "execution_count": 39,
      "metadata": {
        "id": "xlxlE61DXHbb"
      },
      "outputs": [],
      "source": [
        "X = np.array(X)\n",
        "X = X.reshape(-1, 128, 128, 3)"
      ]
    },
    {
      "cell_type": "markdown",
      "metadata": {
        "id": "6AWcb6a9XHut"
      },
      "source": [
        "TRAINING AND VALIDATION SET"
      ]
    },
    {
      "cell_type": "code",
      "execution_count": 40,
      "metadata": {
        "id": "o2s-Ahr2XLY-"
      },
      "outputs": [],
      "source": [
        "X_train, X_val, Y_train, Y_val = train_test_split(X, Y, test_size = 0.2, random_state=42)"
      ]
    },
    {
      "cell_type": "markdown",
      "metadata": {
        "id": "pHFX-a6cXU1B"
      },
      "source": [
        "#### CUSTOM DATAGENERATOR"
      ]
    },
    {
      "cell_type": "code",
      "execution_count": 41,
      "metadata": {
        "id": "0gVCwEZTXNvJ"
      },
      "outputs": [],
      "source": [
        "class Dataset:\n",
        "    def __init__(self, data_x,data_y):\n",
        "        self.x = []\n",
        "        self.y = []\n",
        "        \n",
        "        for img in data_x :\n",
        "            self.x.append(img)\n",
        "        \n",
        "        for lab in data_y :\n",
        "            self.y.append(lab)\n",
        "            \n",
        "\n",
        "    def __getitem__(self, i):\n",
        "            \n",
        "        return self.x[i],self.y[i]\n",
        "        \n",
        "\n",
        "    def __len__(self): # your model.fit_gen requires this function\n",
        "        return len(self.x)\n",
        "\n",
        "    \n",
        "class Dataloder(tf.keras.utils.Sequence):    \n",
        "    def __init__(self, dataset, batch_size=1,shuffle=False):\n",
        "        self.dataset = dataset\n",
        "        self.batch_size = batch_size\n",
        "        self.shuffle=shuffle\n",
        "        self.indexes = np.arange(len(self.dataset.x))\n",
        "\n",
        "\n",
        "    def __getitem__(self, i):\n",
        "        start = i * self.batch_size\n",
        "        stop = (i + 1) * self.batch_size\n",
        "        data = []\n",
        "        for j in range(start, stop):\n",
        "            data.append(self.dataset[j])\n",
        "\n",
        "        #batch = [for samples in zip(*data)]\n",
        "        batch = [np.stack(samples, axis=0) for samples in zip(*data)]\n",
        "\n",
        "        return tuple([batch[0],batch[1]])\n",
        "\n",
        "    def __len__(self):  # your model.fit_gen requires this function\n",
        "        return len(self.indexes) // self.batch_size\n",
        "    \n",
        "    def on_epoch_end(self):\n",
        "        self.indexes = np.random.permutation(self.indexes)\n",
        "\n",
        "train_dataset=Dataset(X_train,Y_train)\n",
        "train_dataloader = Dataloder(train_dataset, batch_size=8,shuffle=True)"
      ]
    },
    {
      "cell_type": "code",
      "execution_count": 42,
      "metadata": {
        "id": "tGYSWcJdXWW7"
      },
      "outputs": [],
      "source": [
        "test_dataset=Dataset(X_val,Y_val)\n",
        "test_dataloader = Dataloder(test_dataset, batch_size=8,shuffle=True)"
      ]
    },
    {
      "cell_type": "markdown",
      "metadata": {
        "id": "XAa8GvT6XZb0"
      },
      "source": [
        "#### MODEL BUILDING AND TRAINING"
      ]
    },
    {
      "cell_type": "code",
      "execution_count": 43,
      "metadata": {
        "id": "XjslCNMFXYOk"
      },
      "outputs": [],
      "source": [
        "from tensorflow.keras.layers import * \n",
        "from tensorflow.keras.models import *"
      ]
    },
    {
      "cell_type": "code",
      "execution_count": 44,
      "metadata": {
        "colab": {
          "base_uri": "https://localhost:8080/"
        },
        "id": "IZtg1BcQXczk",
        "outputId": "3995e16e-c0aa-4941-dd4b-d9128a4416ec"
      },
      "outputs": [
        {
          "name": "stdout",
          "output_type": "stream",
          "text": [
            "WARNING:tensorflow:From c:\\Users\\Anuj Taneja\\AppData\\Local\\Programs\\Python\\Python310\\lib\\site-packages\\keras\\src\\backend.py:1398: The name tf.executing_eagerly_outside_functions is deprecated. Please use tf.compat.v1.executing_eagerly_outside_functions instead.\n",
            "\n"
          ]
        },
        {
          "name": "stdout",
          "output_type": "stream",
          "text": [
            "WARNING:tensorflow:From c:\\Users\\Anuj Taneja\\AppData\\Local\\Programs\\Python\\Python310\\lib\\site-packages\\keras\\src\\layers\\pooling\\max_pooling2d.py:161: The name tf.nn.max_pool is deprecated. Please use tf.nn.max_pool2d instead.\n",
            "\n",
            "Model: \"model\"\n",
            "_________________________________________________________________\n",
            " Layer (type)                Output Shape              Param #   \n",
            "=================================================================\n",
            " input_1 (InputLayer)        [(None, 128, 128, 3)]     0         \n",
            "                                                                 \n",
            " conv2d (Conv2D)             (None, 128, 128, 128)     3584      \n",
            "                                                                 \n",
            " conv2d_1 (Conv2D)           (None, 128, 128, 64)      73792     \n",
            "                                                                 \n",
            " max_pooling2d (MaxPooling2  (None, 64, 64, 64)        0         \n",
            " D)                                                              \n",
            "                                                                 \n",
            " dropout (Dropout)           (None, 64, 64, 64)        0         \n",
            "                                                                 \n",
            " flatten (Flatten)           (None, 262144)            0         \n",
            "                                                                 \n",
            " dense (Dense)               (None, 16)                4194320   \n",
            "                                                                 \n",
            " dense_1 (Dense)             (None, 8)                 136       \n",
            "                                                                 \n",
            " dense_2 (Dense)             (None, 1)                 9         \n",
            "                                                                 \n",
            "=================================================================\n",
            "Total params: 4271841 (16.30 MB)\n",
            "Trainable params: 4271841 (16.30 MB)\n",
            "Non-trainable params: 0 (0.00 Byte)\n",
            "_________________________________________________________________\n",
            "None\n"
          ]
        }
      ],
      "source": [
        "Input_shape=Input(shape=(128,128,3))\n",
        "conv11=Conv2D(filters=128,kernel_size=(3,3),padding=\"same\", activation=\"relu\")(Input_shape)\n",
        "conv12=Conv2D(filters=64,kernel_size=(3,3),padding=\"same\", activation=\"relu\")(conv11)\n",
        "conv13=MaxPool2D(pool_size=(2,2),strides=(2,2))(conv12)\n",
        "conv13=Dropout(0.3)(conv13)\n",
        "\n",
        "\n",
        "flatten1=Flatten()(conv13)\n",
        "dense1=Dense(units=16,activation=\"relu\")(flatten1)\n",
        "dense2=Dense(units=8,activation=\"relu\")(dense1)\n",
        "output=Dense(units=1, activation=\"sigmoid\")(dense2)\n",
        "\n",
        "model=Model(inputs=Input_shape,outputs=output)\n",
        "print(model.summary())\n",
        "\n"
      ]
    },
    {
      "cell_type": "code",
      "execution_count": 45,
      "metadata": {
        "id": "4GycUDzrXeG7"
      },
      "outputs": [],
      "source": [
        "model.compile(optimizer =tf.keras.optimizers.Adam(learning_rate=0.0001), loss = 'binary_crossentropy', metrics = ['accuracy'])"
      ]
    },
    {
      "cell_type": "markdown",
      "metadata": {
        "id": "mNtWQmLuXkX-"
      },
      "source": [
        "##### Training the model"
      ]
    },
    {
      "cell_type": "code",
      "execution_count": 46,
      "metadata": {
        "id": "58IsGCtRMlYr"
      },
      "outputs": [],
      "source": [
        "def scheduler(epoch,lr) :\n",
        "  if epoch%5==0 :\n",
        "    lr=0.9*lr\n",
        "  \n",
        "  return lr"
      ]
    },
    {
      "cell_type": "code",
      "execution_count": 47,
      "metadata": {
        "id": "1yDL6ihCL6HG"
      },
      "outputs": [],
      "source": [
        "#Callbacks \n",
        "lrScheduler = tf.keras.callbacks.LearningRateScheduler(scheduler)\n",
        "es=tf.keras.callbacks.EarlyStopping(monitor=\"val_loss\",patience=3)\n",
        "rl=tf.keras.callbacks.ReduceLROnPlateau(monitor=\"val_loss\",factor=0.1,patience=5)"
      ]
    },
    {
      "cell_type": "code",
      "execution_count": 48,
      "metadata": {
        "colab": {
          "base_uri": "https://localhost:8080/"
        },
        "id": "o0Bcdt5g0Oco",
        "outputId": "ad1d2842-b721-4bfd-d453-dc4017fdbf2e"
      },
      "outputs": [
        {
          "name": "stdout",
          "output_type": "stream",
          "text": [
            "Epoch 1/30\n",
            "WARNING:tensorflow:From c:\\Users\\Anuj Taneja\\AppData\\Local\\Programs\\Python\\Python310\\lib\\site-packages\\keras\\src\\utils\\tf_utils.py:492: The name tf.ragged.RaggedTensorValue is deprecated. Please use tf.compat.v1.ragged.RaggedTensorValue instead.\n",
            "\n"
          ]
        },
        {
          "name": "stderr",
          "output_type": "stream",
          "text": [
            "C:\\Users\\Anuj Taneja\\AppData\\Local\\Temp\\ipykernel_26376\\1422361946.py:1: UserWarning: `Model.fit_generator` is deprecated and will be removed in a future version. Please use `Model.fit`, which supports generators.\n",
            "  history=model.fit_generator(train_dataloader,steps_per_epoch=len(train_dataloader)//8,validation_data=test_dataloader,validation_steps=len(test_dataloader)//8,epochs=30,callbacks=[lrScheduler,es,rl])\n"
          ]
        },
        {
          "name": "stdout",
          "output_type": "stream",
          "text": [
            "WARNING:tensorflow:From c:\\Users\\Anuj Taneja\\AppData\\Local\\Programs\\Python\\Python310\\lib\\site-packages\\keras\\src\\engine\\base_layer_utils.py:384: The name tf.executing_eagerly_outside_functions is deprecated. Please use tf.compat.v1.executing_eagerly_outside_functions instead.\n",
            "\n",
            "51/51 [==============================] - 11s 195ms/step - loss: 0.6573 - accuracy: 0.5172 - val_loss: 0.6038 - val_accuracy: 0.4896 - lr: 9.0000e-05\n",
            "Epoch 2/30\n",
            "51/51 [==============================] - 13s 249ms/step - loss: 0.6032 - accuracy: 0.6324 - val_loss: 0.5585 - val_accuracy: 0.8438 - lr: 9.0000e-05\n",
            "Epoch 3/30\n",
            "51/51 [==============================] - 14s 277ms/step - loss: 0.5358 - accuracy: 0.7623 - val_loss: 0.4681 - val_accuracy: 0.8229 - lr: 9.0000e-05\n",
            "Epoch 4/30\n",
            "51/51 [==============================] - 18s 350ms/step - loss: 0.4978 - accuracy: 0.8137 - val_loss: 0.4490 - val_accuracy: 0.8646 - lr: 9.0000e-05\n",
            "Epoch 5/30\n",
            "51/51 [==============================] - 19s 366ms/step - loss: 0.4416 - accuracy: 0.8309 - val_loss: 0.3436 - val_accuracy: 0.9375 - lr: 9.0000e-05\n",
            "Epoch 6/30\n",
            "51/51 [==============================] - 12s 242ms/step - loss: 0.3986 - accuracy: 0.8456 - val_loss: 0.3464 - val_accuracy: 0.8750 - lr: 8.1000e-05\n",
            "Epoch 7/30\n",
            "51/51 [==============================] - 13s 249ms/step - loss: 0.3703 - accuracy: 0.8627 - val_loss: 0.3008 - val_accuracy: 0.9062 - lr: 8.1000e-05\n",
            "Epoch 8/30\n",
            "51/51 [==============================] - 13s 255ms/step - loss: 0.3645 - accuracy: 0.8578 - val_loss: 0.2668 - val_accuracy: 0.9375 - lr: 8.1000e-05\n",
            "Epoch 9/30\n",
            "51/51 [==============================] - 14s 273ms/step - loss: 0.2720 - accuracy: 0.8971 - val_loss: 0.2512 - val_accuracy: 0.9062 - lr: 8.1000e-05\n",
            "Epoch 10/30\n",
            "51/51 [==============================] - 15s 284ms/step - loss: 0.3642 - accuracy: 0.8431 - val_loss: 0.2486 - val_accuracy: 0.9479 - lr: 8.1000e-05\n",
            "Epoch 11/30\n",
            "51/51 [==============================] - 15s 297ms/step - loss: 0.3420 - accuracy: 0.8750 - val_loss: 0.3052 - val_accuracy: 0.8750 - lr: 7.2900e-05\n",
            "Epoch 12/30\n",
            "51/51 [==============================] - 15s 292ms/step - loss: 0.3123 - accuracy: 0.8897 - val_loss: 0.2430 - val_accuracy: 0.9479 - lr: 7.2900e-05\n",
            "Epoch 13/30\n",
            "51/51 [==============================] - 15s 290ms/step - loss: 0.3339 - accuracy: 0.8676 - val_loss: 0.2840 - val_accuracy: 0.8854 - lr: 7.2900e-05\n",
            "Epoch 14/30\n",
            "51/51 [==============================] - 15s 295ms/step - loss: 0.3025 - accuracy: 0.8799 - val_loss: 0.2425 - val_accuracy: 0.9271 - lr: 7.2900e-05\n",
            "Epoch 15/30\n",
            "51/51 [==============================] - 15s 291ms/step - loss: 0.3317 - accuracy: 0.8676 - val_loss: 0.2344 - val_accuracy: 0.9583 - lr: 7.2900e-05\n",
            "Epoch 16/30\n",
            "51/51 [==============================] - 14s 283ms/step - loss: 0.3050 - accuracy: 0.8848 - val_loss: 0.2602 - val_accuracy: 0.8958 - lr: 6.5610e-05\n",
            "Epoch 17/30\n",
            "51/51 [==============================] - 14s 272ms/step - loss: 0.3358 - accuracy: 0.8725 - val_loss: 0.2557 - val_accuracy: 0.9271 - lr: 6.5610e-05\n",
            "Epoch 18/30\n",
            "51/51 [==============================] - 14s 272ms/step - loss: 0.2926 - accuracy: 0.8922 - val_loss: 0.2275 - val_accuracy: 0.9479 - lr: 6.5610e-05\n",
            "Epoch 19/30\n",
            "51/51 [==============================] - 14s 276ms/step - loss: 0.2608 - accuracy: 0.9142 - val_loss: 0.2522 - val_accuracy: 0.8958 - lr: 6.5610e-05\n",
            "Epoch 20/30\n",
            "51/51 [==============================] - 14s 273ms/step - loss: 0.2988 - accuracy: 0.8848 - val_loss: 0.2361 - val_accuracy: 0.9375 - lr: 6.5610e-05\n",
            "Epoch 21/30\n",
            "51/51 [==============================] - 14s 271ms/step - loss: 0.2966 - accuracy: 0.8824 - val_loss: 0.2726 - val_accuracy: 0.8750 - lr: 5.9049e-05\n"
          ]
        }
      ],
      "source": [
        "history=model.fit_generator(train_dataloader,steps_per_epoch=len(train_dataloader)//8,validation_data=test_dataloader,validation_steps=len(test_dataloader)//8,epochs=30,callbacks=[lrScheduler,es,rl])"
      ]
    },
    {
      "cell_type": "code",
      "execution_count": 49,
      "metadata": {
        "colab": {
          "base_uri": "https://localhost:8080/",
          "height": 621
        },
        "id": "euMdiQX_OdK7",
        "outputId": "77275ba1-97b6-4fa9-fba7-491e2e5633b6"
      },
      "outputs": [
        {
          "data": {
            "image/png": "[encoded data removed]",
            "text/plain": [
              "<Figure size 1000x1000 with 1 Axes>"
            ]
          },
          "metadata": {},
          "output_type": "display_data"
        }
      ],
      "source": [
        "plt.figure(figsize=(10,10))\n",
        "plt.plot(history.history['val_loss'],label='Validation loss')\n",
        "plt.plot(history.history['loss'],label='Loss')\n",
        "plt.title(\"Epoch v/s Loss Graph\")\n",
        "plt.xlabel(\"Epoch\")\n",
        "plt.ylabel(\"Loss\")\n",
        "plt.legend()\n",
        "plt.show()"
      ]
    },
    {
      "cell_type": "code",
      "execution_count": 50,
      "metadata": {
        "id": "H9OA9WoVfVLP"
      },
      "outputs": [],
      "source": [
        "ph1model_json = model.to_json()\n",
        "with open(\"v1model.json\", \"w\") as json_file:\n",
        "    json_file.write(ph1model_json)"
      ]
    },
    {
      "cell_type": "code",
      "execution_count": 51,
      "metadata": {
        "id": "iRzv35hmfjBt"
      },
      "outputs": [],
      "source": [
        "model.save_weights(\"v1model.h5\")"
      ]
    },
    {
      "cell_type": "markdown",
      "metadata": {
        "id": "pFSD4P8AbCwU"
      },
      "source": [
        "##### PREDICTION"
      ]
    },
    {
      "cell_type": "code",
      "execution_count": 52,
      "metadata": {
        "id": "N1QZOB5ma8JI"
      },
      "outputs": [],
      "source": [
        "def predict(img_path,model) :\n",
        "    pi=prepare_image(img_path)\n",
        "    pi=pi.reshape(1,128,128,3)\n",
        "    predict=model.predict(pi)\n",
        "    return predict"
      ]
    },
    {
      "cell_type": "code",
      "execution_count": 53,
      "metadata": {
        "colab": {
          "base_uri": "https://localhost:8080/"
        },
        "id": "XXh-ESRSbVQ3",
        "outputId": "0361e77e-571b-4ca9-d17b-6b387b9d7144"
      },
      "outputs": [
        {
          "name": "stdout",
          "output_type": "stream",
          "text": [
            "====================================================================================================\n",
            "Real label--- fake\n",
            "1/1 [==============================] - 0s 78ms/step\n",
            "Predicted label--- fake\n",
            "====================================================================================================\n",
            "Real label--- real\n",
            "1/1 [==============================] - 0s 29ms/step\n",
            "Predicted label--- real\n",
            "====================================================================================================\n",
            "Real label--- real\n",
            "1/1 [==============================] - 0s 23ms/step\n",
            "Predicted label--- real\n",
            "====================================================================================================\n",
            "Real label--- fake\n",
            "1/1 [==============================] - 0s 15ms/step\n",
            "Predicted label--- fake\n",
            "====================================================================================================\n",
            "Real label--- real\n",
            "1/1 [==============================] - 0s 20ms/step\n",
            "Predicted label--- real\n"
          ]
        }
      ],
      "source": [
        "#Prediction on 5 random images \n",
        "for i in range(1,6) :\n",
        "  ran_num=np.random.randint(0,final_image_data.shape[0])\n",
        "  temp_row=final_image_data.iloc[ran_num,:]\n",
        "  print(\"=\"*100)\n",
        "  temp_arr=plt.imread(temp_row['image_path'])\n",
        "  print(\"Real label--- {}\".format(temp_row['label']))\n",
        "  temp_predict=predict(temp_row['image_path'],model)\n",
        "  if temp_predict[0]>0.5 :\n",
        "    temp_prediction='real'\n",
        "  else:\n",
        "    temp_prediction='fake'\n",
        "  print(\"Predicted label--- {}\".format(temp_prediction))\n"
      ]
    },
    {
      "cell_type": "code",
      "execution_count": null,
      "metadata": {
        "id": "eYAH9NTuLxlq"
      },
      "outputs": [],
      "source": []
    }
  ],
  "metadata": {
    "accelerator": "GPU",
    "colab": {
      "name": "ifd PHASE-1.ipynb",
      "provenance": []
    },
    "gpuClass": "standard",
    "kernelspec": {
      "display_name": "Python 3",
      "name": "python3"
    },
    "language_info": {
      "codemirror_mode": {
        "name": "ipython",
        "version": 3
      },
      "file_extension": ".py",
      "mimetype": "text/x-python",
      "name": "python",
      "nbconvert_exporter": "python",
      "pygments_lexer": "ipython3",
      "version": "3.10.4"
    }
  },
  "nbformat": 4,
  "nbformat_minor": 0
}
